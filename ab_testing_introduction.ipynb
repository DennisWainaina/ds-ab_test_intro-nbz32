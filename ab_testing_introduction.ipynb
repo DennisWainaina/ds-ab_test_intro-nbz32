{
 "cells": [
  {
   "cell_type": "markdown",
   "metadata": {
    "toc": true
   },
   "source": [
    "<h1>Table of Contents<span class=\"tocSkip\"></span></h1>\n",
    "<div class=\"toc\"><ul class=\"toc-item\"><li><span><a href=\"#Objectives\" data-toc-modified-id=\"Objectives-1\"><span class=\"toc-item-num\">1&nbsp;&nbsp;</span>Objectives</a></span></li><li><span><a href=\"#Introduction-to-A/B-Testing\" data-toc-modified-id=\"Introduction-to-A/B-Testing-2\"><span class=\"toc-item-num\">2&nbsp;&nbsp;</span>Introduction to A/B Testing</a></span><ul class=\"toc-item\"><li><span><a href=\"#What-Is-It-Exactly?\" data-toc-modified-id=\"What-Is-It-Exactly?-2.1\"><span class=\"toc-item-num\">2.1&nbsp;&nbsp;</span>What Is It Exactly?</a></span></li><li><span><a href=\"#How-Does-It-Relate-to-What-We've-Learn?\" data-toc-modified-id=\"How-Does-It-Relate-to-What-We've-Learn?-2.2\"><span class=\"toc-item-num\">2.2&nbsp;&nbsp;</span>How Does It Relate to What We've Learn?</a></span></li></ul></li><li><span><a href=\"#Designing-an-Experiment\" data-toc-modified-id=\"Designing-an-Experiment-3\"><span class=\"toc-item-num\">3&nbsp;&nbsp;</span>Designing an Experiment</a></span><ul class=\"toc-item\"><li><span><a href=\"#Consider-Who-You're-Testing\" data-toc-modified-id=\"Consider-Who-You're-Testing-3.1\"><span class=\"toc-item-num\">3.1&nbsp;&nbsp;</span>Consider Who You're Testing</a></span></li><li><span><a href=\"#Be-Aware-of-Initial-Launch\" data-toc-modified-id=\"Be-Aware-of-Initial-Launch-3.2\"><span class=\"toc-item-num\">3.2&nbsp;&nbsp;</span>Be Aware of Initial Launch</a></span><ul class=\"toc-item\"><li><span><a href=\"#Novelty-Effect\" data-toc-modified-id=\"Novelty-Effect-3.2.1\"><span class=\"toc-item-num\">3.2.1&nbsp;&nbsp;</span>Novelty Effect</a></span></li><li><span><a href=\"#Change-Aversion\" data-toc-modified-id=\"Change-Aversion-3.2.2\"><span class=\"toc-item-num\">3.2.2&nbsp;&nbsp;</span>Change Aversion</a></span></li><li><span><a href=\"#Avoiding-These-Issues?\" data-toc-modified-id=\"Avoiding-These-Issues?-3.2.3\"><span class=\"toc-item-num\">3.2.3&nbsp;&nbsp;</span>Avoiding These Issues?</a></span></li></ul></li><li><span><a href=\"#Determining-Size-of-Experiment\" data-toc-modified-id=\"Determining-Size-of-Experiment-3.3\"><span class=\"toc-item-num\">3.3&nbsp;&nbsp;</span>Determining Size of Experiment</a></span></li></ul></li><li><span><a href=\"#Example-A/B-Test\" data-toc-modified-id=\"Example-A/B-Test-4\"><span class=\"toc-item-num\">4&nbsp;&nbsp;</span>Example A/B Test</a></span><ul class=\"toc-item\"><li><span><a href=\"#The-Scenario\" data-toc-modified-id=\"The-Scenario-4.1\"><span class=\"toc-item-num\">4.1&nbsp;&nbsp;</span>The Scenario</a></span></li><li><span><a href=\"#What's-Our-Goal?\" data-toc-modified-id=\"What's-Our-Goal?-4.2\"><span class=\"toc-item-num\">4.2&nbsp;&nbsp;</span>What's Our Goal?</a></span></li><li><span><a href=\"#Design-the-Experiment\" data-toc-modified-id=\"Design-the-Experiment-4.3\"><span class=\"toc-item-num\">4.3&nbsp;&nbsp;</span>Design the Experiment</a></span></li><li><span><a href=\"#Experiment-Time!-🧪\" data-toc-modified-id=\"Experiment-Time!-🧪-4.4\"><span class=\"toc-item-num\">4.4&nbsp;&nbsp;</span>Experiment Time! 🧪</a></span></li><li><span><a href=\"#Conclusion?\" data-toc-modified-id=\"Conclusion?-4.5\"><span class=\"toc-item-num\">4.5&nbsp;&nbsp;</span>Conclusion?</a></span></li></ul></li><li><span><a href=\"#Level-Up:-Fisher's-Test\" data-toc-modified-id=\"Level-Up:-Fisher's-Test-5\"><span class=\"toc-item-num\">5&nbsp;&nbsp;</span>Level Up: Fisher's Test</a></span></li></ul></div>"
   ]
  },
  {
   "cell_type": "markdown",
   "metadata": {
    "heading_collapsed": true
   },
   "source": [
    "# Objectives"
   ]
  },
  {
   "cell_type": "markdown",
   "metadata": {
    "hidden": true
   },
   "source": [
    "- Understands how A/B testing relates to hypothesis testing\n",
    "- Understands the considerations in designing an A/B test\n",
    "- Explains how to conduct an A/B test "
   ]
  },
  {
   "cell_type": "markdown",
   "metadata": {
    "heading_collapsed": true
   },
   "source": [
    "# Introduction to A/B Testing"
   ]
  },
  {
   "cell_type": "markdown",
   "metadata": {
    "hidden": true
   },
   "source": [
    "> **A/B testing** is a general methodology when you want to test a new feature and/or product (especially for online products)."
   ]
  },
  {
   "cell_type": "markdown",
   "metadata": {
    "heading_collapsed": true,
    "hidden": true
   },
   "source": [
    "## What Is It Exactly?"
   ]
  },
  {
   "cell_type": "markdown",
   "metadata": {
    "hidden": true
   },
   "source": [
    "Rolling out new features and products can be exciting but also nerve-wrecking! An organization hopes that new features, updates, etc. are going to be useful to their customers/users but there's the possibility it wasn't as great as they hoped."
   ]
  },
  {
   "cell_type": "markdown",
   "metadata": {
    "hidden": true
   },
   "source": [
    "A lot of times, we can make smaller, iterative improvements to a product before committing fully to making the change for all users or dedicating time committing to the new changes.\n",
    "\n",
    "What we can do is give out these changes to a relatively small group in order to gain insights on how we might want to proceed in making changes. "
   ]
  },
  {
   "cell_type": "markdown",
   "metadata": {
    "hidden": true
   },
   "source": [
    "These changes can include changes to the user-interface (UI) of a website, new recommendation models, new features, etc."
   ]
  },
  {
   "cell_type": "markdown",
   "metadata": {
    "hidden": true
   },
   "source": [
    "![](img/mountains.png)"
   ]
  },
  {
   "cell_type": "markdown",
   "metadata": {
    "hidden": true
   },
   "source": [
    "> One thing to note about A/B testing is best suited in informing us what improvements we can make on something we already have. It's not really meant to tell us what _new direction_ we should go.\n",
    ">\n",
    "> A good analogy is A/B testing is meant to tell us how to climb up the mountain we're already on, but not necessarily _what_ mountain we should be on."
   ]
  },
  {
   "cell_type": "markdown",
   "metadata": {
    "heading_collapsed": true,
    "hidden": true
   },
   "source": [
    "## How Does It Relate to What We've Learn?"
   ]
  },
  {
   "cell_type": "markdown",
   "metadata": {
    "hidden": true
   },
   "source": [
    "At this point, you probably realized this is related to hypothesis testing! In fact, A/B testing is essentially **hypothesis testing** but applied to a business problem!"
   ]
  },
  {
   "cell_type": "markdown",
   "metadata": {
    "hidden": true
   },
   "source": [
    "We typically will carry out _experiments_ by comparing different groups to some control group. The simplest case is comparing a group exposed to the new changes to a group where no changes were made. But you can also have _many_ different groups each with slight variations!"
   ]
  },
  {
   "cell_type": "markdown",
   "metadata": {
    "hidden": true
   },
   "source": [
    "![](https://images.ctfassets.net/zw48pl1isxmc/4QYN7VubAAgEAGs0EuWguw/165749ef2fa01c1c004b6a167fd27835/ab-testing.png)\n",
    "> Image source from [Optimizely](https://www.optimizely.com/optimization-glossary/ab-testing/)"
   ]
  },
  {
   "cell_type": "markdown",
   "metadata": {
    "hidden": true
   },
   "source": [
    "When we have these groups, we can use an appropriate hypothesis test to determine if it is _significant_ enough to warrant making the change. "
   ]
  },
  {
   "cell_type": "markdown",
   "metadata": {
    "hidden": true
   },
   "source": [
    "![](img/huh.png)"
   ]
  },
  {
   "cell_type": "markdown",
   "metadata": {
    "hidden": true
   },
   "source": [
    "And this is where your skills of a data scientist can shine. It's not just doing the technical stuff correctly (though it is important!), but also how you communicate your findings to stakeholders who likely have limited knowledge of statistics."
   ]
  },
  {
   "cell_type": "markdown",
   "metadata": {
    "heading_collapsed": true
   },
   "source": [
    "# Designing an Experiment"
   ]
  },
  {
   "cell_type": "markdown",
   "metadata": {
    "heading_collapsed": true,
    "hidden": true
   },
   "source": [
    "## Consider Who You're Testing"
   ]
  },
  {
   "cell_type": "markdown",
   "metadata": {
    "hidden": true
   },
   "source": [
    "It's important consider _who_ you're testing! You want to ensure that the participants in your experiment will be useful when drawing conclusions as the experiment concludes."
   ]
  },
  {
   "cell_type": "markdown",
   "metadata": {
    "hidden": true
   },
   "source": [
    "![\"Who me?\" gif happy to be chosen](img/who_me.gif)\n",
    "> _User happy you chose them for your experiment_"
   ]
  },
  {
   "cell_type": "markdown",
   "metadata": {
    "hidden": true
   },
   "source": [
    "But note sometimes when we do A/B testing we might take the attitude of _\"well... close enough!\"_ when thinking about targeting our test. This is because sometimes its not feasible or worth the time to segment the population."
   ]
  },
  {
   "cell_type": "markdown",
   "metadata": {
    "heading_collapsed": true,
    "hidden": true
   },
   "source": [
    "## Be Aware of Initial Launch"
   ]
  },
  {
   "cell_type": "markdown",
   "metadata": {
    "heading_collapsed": true,
    "hidden": true
   },
   "source": [
    "### Novelty Effect"
   ]
  },
  {
   "cell_type": "markdown",
   "metadata": {
    "hidden": true
   },
   "source": [
    "> When users love the newest and latest but eventually the \"newness\" wears off"
   ]
  },
  {
   "cell_type": "markdown",
   "metadata": {
    "hidden": true
   },
   "source": [
    "![\"That Hansel's so hot right now\" gif from Zoolander](img/hansel_is_hot.gif)"
   ]
  },
  {
   "cell_type": "markdown",
   "metadata": {
    "heading_collapsed": true,
    "hidden": true
   },
   "source": [
    "### Change Aversion"
   ]
  },
  {
   "cell_type": "markdown",
   "metadata": {
    "hidden": true
   },
   "source": [
    "![Old man yells at cloud newspaper clipping from the Simpsons TV show](img/old_man_yells_at_cloud.jpg)"
   ]
  },
  {
   "cell_type": "markdown",
   "metadata": {
    "hidden": true
   },
   "source": [
    "> Users are used to the the way things are and don't want to change!"
   ]
  },
  {
   "cell_type": "markdown",
   "metadata": {
    "hidden": true
   },
   "source": [
    "![](https://imgs.xkcd.com/comics/workflow.png)\n",
    "> [xkcd \"Workflow\"](https://xkcd.com/1172/)"
   ]
  },
  {
   "cell_type": "markdown",
   "metadata": {
    "heading_collapsed": true,
    "hidden": true
   },
   "source": [
    "### Avoiding These Issues?"
   ]
  },
  {
   "cell_type": "markdown",
   "metadata": {
    "hidden": true
   },
   "source": [
    "* We wait for users to \"die\" replaced by new users\n",
    "* Wait for old users to get used to it"
   ]
  },
  {
   "cell_type": "markdown",
   "metadata": {
    "hidden": true
   },
   "source": [
    "In other words we need to take **time** for the users to adopt the changes. This is where a **[cohort analysis](https://en.wikipedia.org/wiki/Cohort_analysis)** can be very useful by keeping track of behavior of groups as the new features are introduced."
   ]
  },
  {
   "cell_type": "markdown",
   "metadata": {
    "heading_collapsed": true,
    "hidden": true
   },
   "source": [
    "## Determining Size of Experiment"
   ]
  },
  {
   "cell_type": "markdown",
   "metadata": {
    "hidden": true
   },
   "source": [
    "When talking about hypothesis tests, typically the larger the sample the better! Does the same apply for A/B testing?"
   ]
  },
  {
   "cell_type": "markdown",
   "metadata": {
    "hidden": true
   },
   "source": [
    "Well in an A/B test, there's likely more to consider beyond getting a significant result. \n",
    "\n",
    "For example, if it takes a long time to collect data from an individual then it might be a better idea to limit the number of participants in an experiment."
   ]
  },
  {
   "cell_type": "markdown",
   "metadata": {
    "hidden": true
   },
   "source": [
    "It also might not be worth experimenting with many individuals since it might cost the business. For example, imagine if we test on a substantial number of participants but it turns out the users react _negatively_ to that change and they quit using the product completely! "
   ]
  },
  {
   "cell_type": "markdown",
   "metadata": {
    "hidden": true
   },
   "source": [
    "So we really want to ensure we determine the size of the experiment so we can still observe a significant difference without any negative effects!"
   ]
  },
  {
   "cell_type": "markdown",
   "metadata": {
    "heading_collapsed": true
   },
   "source": [
    "# Example A/B Test"
   ]
  },
  {
   "cell_type": "markdown",
   "metadata": {
    "hidden": true
   },
   "source": [
    "Let's try out an A/B test with some data!"
   ]
  },
  {
   "cell_type": "markdown",
   "metadata": {
    "heading_collapsed": true,
    "hidden": true
   },
   "source": [
    "## The Scenario"
   ]
  },
  {
   "cell_type": "markdown",
   "metadata": {
    "heading_collapsed": true,
    "hidden": true
   },
   "source": [
    "## What's Our Goal?"
   ]
  },
  {
   "cell_type": "markdown",
   "metadata": {
    "heading_collapsed": true,
    "hidden": true
   },
   "source": [
    "## Design the Experiment "
   ]
  },
  {
   "cell_type": "markdown",
   "metadata": {
    "hidden": true
   },
   "source": [
    "Obviously we won't be designing the experiment before the data are collected but we should still consider what has to go into this."
   ]
  },
  {
   "cell_type": "markdown",
   "metadata": {
    "heading_collapsed": true,
    "hidden": true
   },
   "source": [
    "## Experiment Time! 🧪"
   ]
  },
  {
   "cell_type": "markdown",
   "metadata": {
    "heading_collapsed": true,
    "hidden": true
   },
   "source": [
    "## Conclusion?"
   ]
  },
  {
   "cell_type": "markdown",
   "metadata": {
    "heading_collapsed": true
   },
   "source": [
    "# Level Up: Fisher's Test"
   ]
  }
 ],
 "metadata": {
  "kernelspec": {
   "display_name": "learn-env",
   "language": "python",
   "name": "learn-env"
  },
  "language_info": {
   "codemirror_mode": {
    "name": "ipython",
    "version": 3
   },
   "file_extension": ".py",
   "mimetype": "text/x-python",
   "name": "python",
   "nbconvert_exporter": "python",
   "pygments_lexer": "ipython3",
   "version": "3.8.5"
  },
  "toc": {
   "base_numbering": 1,
   "nav_menu": {},
   "number_sections": true,
   "sideBar": true,
   "skip_h1_title": false,
   "title_cell": "Table of Contents",
   "title_sidebar": "TOC",
   "toc_cell": true,
   "toc_position": {
    "height": "calc(100% - 180px)",
    "left": "10px",
    "top": "150px",
    "width": "302px"
   },
   "toc_section_display": true,
   "toc_window_display": true
  }
 },
 "nbformat": 4,
 "nbformat_minor": 4
}
